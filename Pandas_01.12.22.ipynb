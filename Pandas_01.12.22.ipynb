{ 
 "cells": [
  {
   "cell_type": "code",
   "execution_count": 2,
   "id": "7c59617a",
   "metadata": {},
   "outputs": [],
   "source": [
    "import pandas as pd"
   ]
  },
  {
   "cell_type": "code",
   "execution_count": 3,
   "id": "c505abd4",
   "metadata": {},
   "outputs": [
    {
     "data": {
      "text/plain": [
       "0    c\n",
       "1    l\n",
       "2    a\n",
       "3    r\n",
       "4    u\n",
       "5    s\n",
       "6    w\n",
       "7    a\n",
       "8    y\n",
       "dtype: object"
      ]
     },
     "execution_count": 3,
     "metadata": {},
     "output_type": "execute_result"
    }
   ],
   "source": [
    "ser = pd.Series(list(\"clarusway\"))\n",
    "\n",
    "ser"
   ]
  },
  {
   "cell_type": "code",
   "execution_count": 4,
   "id": "a749f327",
   "metadata": {},
   "outputs": [
    {
     "data": {
      "text/plain": [
       "0    c\n",
       "1    l\n",
       "2    a\n",
       "3    r\n",
       "4    u\n",
       "5    s\n",
       "6    w\n",
       "7    a\n",
       "8    y\n",
       "dtype: object"
      ]
     },
     "execution_count": 4,
     "metadata": {},
     "output_type": "execute_result"
    }
   ],
   "source": [
    "ser.sort_index(ascending = True)\n"
   ]
  },
  {
   "cell_type": "code",
   "execution_count": 5,
   "id": "5c45c038",
   "metadata": {},
   "outputs": [
    {
     "data": {
      "text/plain": [
       "2    a\n",
       "7    a\n",
       "0    c\n",
       "1    l\n",
       "3    r\n",
       "5    s\n",
       "4    u\n",
       "6    w\n",
       "8    y\n",
       "dtype: object"
      ]
     },
     "execution_count": 5,
     "metadata": {},
     "output_type": "execute_result"
    }
   ],
   "source": [
    "ser.sort_values()"
   ]
  },
  {
   "cell_type": "code",
   "execution_count": 11,
   "id": "08456abe",
   "metadata": {},
   "outputs": [
    {
     "data": {
      "text/plain": [
       "set"
      ]
     },
     "execution_count": 11,
     "metadata": {},
     "output_type": "execute_result"
    }
   ],
   "source": [
    "ser = pd.Series([set, list, dict, print, len])\n",
    "\n",
    "ser[0]"
   ]
  },
  {
   "cell_type": "code",
   "execution_count": 7,
   "id": "1a01d52a",
   "metadata": {},
   "outputs": [
    {
     "data": {
      "text/plain": [
       "type"
      ]
     },
     "execution_count": 7,
     "metadata": {},
     "output_type": "execute_result"
    }
   ],
   "source": [
    "type(ser[0])"
   ]
  },
  {
   "cell_type": "code",
   "execution_count": 9,
   "id": "ce83f5f9",
   "metadata": {},
   "outputs": [
    {
     "data": {
      "text/plain": [
       "{1, 2, 3, 4, 5}"
      ]
     },
     "execution_count": 9,
     "metadata": {},
     "output_type": "execute_result"
    }
   ],
   "source": [
    "ser[0]([1,2,3,4,5])"
   ]
  },
  {
   "cell_type": "code",
   "execution_count": 12,
   "id": "626544a1",
   "metadata": {},
   "outputs": [
    {
     "name": "stdout",
     "output_type": "stream",
     "text": [
      "pandas series\n"
     ]
    }
   ],
   "source": [
    "ser[3](\"pandas series\")"
   ]
  },
  {
   "cell_type": "code",
   "execution_count": 13,
   "id": "45ab26a6",
   "metadata": {},
   "outputs": [
    {
     "data": {
      "text/plain": [
       "9"
      ]
     },
     "execution_count": 13,
     "metadata": {},
     "output_type": "execute_result"
    }
   ],
   "source": [
    "ser[4](\"clarusway\")"
   ]
  },
  {
   "cell_type": "code",
   "execution_count": 14,
   "id": "62048dc3",
   "metadata": {},
   "outputs": [],
   "source": [
    "func = pd.Series([sum, print, len])"
   ]
  },
  {
   "cell_type": "code",
   "execution_count": 15,
   "id": "a924fdfa",
   "metadata": {},
   "outputs": [
    {
     "name": "stdout",
     "output_type": "stream",
     "text": [
      "We loves pandas\n"
     ]
    }
   ],
   "source": [
    "func[1](\"We loves pandas\")"
   ]
  },
  {
   "cell_type": "code",
   "execution_count": 16,
   "id": "fbda09f4",
   "metadata": {},
   "outputs": [
    {
     "name": "stdout",
     "output_type": "stream",
     "text": [
      "15\n"
     ]
    }
   ],
   "source": [
    "print(func[2](\"We loves pandas\"))"
   ]
  },
  {
   "cell_type": "code",
   "execution_count": 17,
   "id": "0d7c77ea",
   "metadata": {},
   "outputs": [
    {
     "name": "stdout",
     "output_type": "stream",
     "text": [
      "15\n"
     ]
    }
   ],
   "source": [
    "func[1](func[2](\"We loves pandas\"))"
   ]
  },
  {
   "cell_type": "code",
   "execution_count": 18,
   "id": "6bc31a7a",
   "metadata": {},
   "outputs": [
    {
     "data": {
      "text/plain": [
       "terry      121\n",
       "micheal    200\n",
       "orion      150\n",
       "jason       99\n",
       "dtype: int64"
      ]
     },
     "execution_count": 18,
     "metadata": {},
     "output_type": "execute_result"
    }
   ],
   "source": [
    "ser_label = pd.Series(data = [121, 200, 150, 99], index = [\"terry\", \"micheal\", \"orion\", \"jason\"])\n",
    "ser_label"
   ]
  },
  {
   "cell_type": "code",
   "execution_count": 19,
   "id": "681d3529",
   "metadata": {},
   "outputs": [],
   "source": [
    "ser1 = pd.Series( [1,2,3,4], index=['USA', 'Germany', 'USSR', 'Japan'])\n",
    "ser2 = pd.Series( [1,2,5,4,6], index=['USA', 'Germany', 'Italy','Japan','Spain'])"
   ]
  },
  {
   "cell_type": "code",
   "execution_count": 20,
   "id": "6cf0264d",
   "metadata": {},
   "outputs": [
    {
     "data": {
      "text/plain": [
       "USA        1\n",
       "Germany    2\n",
       "USSR       3\n",
       "Japan      4\n",
       "dtype: int64"
      ]
     },
     "execution_count": 20,
     "metadata": {},
     "output_type": "execute_result"
    }
   ],
   "source": [
    "ser1"
   ]
  },
  {
   "cell_type": "code",
   "execution_count": 21,
   "id": "0e50aa0a",
   "metadata": {},
   "outputs": [
    {
     "data": {
      "text/plain": [
       "USA        1\n",
       "Germany    2\n",
       "Italy      5\n",
       "Japan      4\n",
       "Spain      6\n",
       "dtype: int64"
      ]
     },
     "execution_count": 21,
     "metadata": {},
     "output_type": "execute_result"
    }
   ],
   "source": [
    "ser2"
   ]
  },
  {
   "cell_type": "code",
   "execution_count": 23,
   "id": "455ac47d",
   "metadata": {},
   "outputs": [
    {
     "data": {
      "text/plain": [
       "Germany    2\n",
       "Japan      4\n",
       "USA        1\n",
       "USSR       3\n",
       "dtype: int64"
      ]
     },
     "execution_count": 23,
     "metadata": {},
     "output_type": "execute_result"
    }
   ],
   "source": [
    "ser1.sort_index()"
   ]
  },
  {
   "cell_type": "code",
   "execution_count": 25,
   "id": "b32df20e",
   "metadata": {},
   "outputs": [
    {
     "data": {
      "text/plain": [
       "USA        1\n",
       "Germany    2\n",
       "Japan      4\n",
       "Italy      5\n",
       "Spain      6\n",
       "dtype: int64"
      ]
     },
     "execution_count": 25,
     "metadata": {},
     "output_type": "execute_result"
    }
   ],
   "source": [
    "ser2.sort_values()"
   ]
  },
  {
   "cell_type": "code",
   "execution_count": 26,
   "id": "3c58a798",
   "metadata": {},
   "outputs": [
    {
     "data": {
      "text/plain": [
       "4"
      ]
     },
     "execution_count": 26,
     "metadata": {},
     "output_type": "execute_result"
    }
   ],
   "source": [
    "ser1[3]"
   ]
  },
  {
   "cell_type": "code",
   "execution_count": 27,
   "id": "6ebdbd50",
   "metadata": {},
   "outputs": [
    {
     "data": {
      "text/plain": [
       "4"
      ]
     },
     "execution_count": 27,
     "metadata": {},
     "output_type": "execute_result"
    }
   ],
   "source": [
    "ser2[3]"
   ]
  },
  {
   "cell_type": "code",
   "execution_count": 39,
   "id": "a005ddff",
   "metadata": {},
   "outputs": [
    {
     "data": {
      "text/plain": [
       "Germany    4.0\n",
       "Italy      NaN\n",
       "Japan      8.0\n",
       "Spain      NaN\n",
       "USA        2.0\n",
       "USSR       NaN\n",
       "dtype: float64"
      ]
     },
     "execution_count": 39,
     "metadata": {},
     "output_type": "execute_result"
    }
   ],
   "source": [
    "ad = ser1 + ser2\n",
    "ad"
   ]
  },
  {
   "cell_type": "code",
   "execution_count": 29,
   "id": "c12bc188",
   "metadata": {},
   "outputs": [
    {
     "data": {
      "text/plain": [
       "'Japan'"
      ]
     },
     "execution_count": 29,
     "metadata": {},
     "output_type": "execute_result"
    }
   ],
   "source": [
    "ser1.index[3]"
   ]
  },
  {
   "cell_type": "code",
   "execution_count": 30,
   "id": "9d02df4f",
   "metadata": {},
   "outputs": [
    {
     "data": {
      "text/plain": [
       "4"
      ]
     },
     "execution_count": 30,
     "metadata": {},
     "output_type": "execute_result"
    }
   ],
   "source": [
    "ser1.values[3]"
   ]
  },
  {
   "cell_type": "code",
   "execution_count": 31,
   "id": "9ef0109e",
   "metadata": {},
   "outputs": [
    {
     "data": {
      "text/plain": [
       "3"
      ]
     },
     "execution_count": 31,
     "metadata": {},
     "output_type": "execute_result"
    }
   ],
   "source": [
    "ser1.index.get_loc('Japan')"
   ]
  },
  {
   "cell_type": "code",
   "execution_count": 32,
   "id": "70930df9",
   "metadata": {},
   "outputs": [
    {
     "data": {
      "text/plain": [
       "4"
      ]
     },
     "execution_count": 32,
     "metadata": {},
     "output_type": "execute_result"
    }
   ],
   "source": [
    "ser1['Japan']"
   ]
  },
  {
   "cell_type": "code",
   "execution_count": 35,
   "id": "75678b56",
   "metadata": {},
   "outputs": [
    {
     "data": {
      "text/plain": [
       "Japan    4\n",
       "dtype: int64"
      ]
     },
     "execution_count": 35,
     "metadata": {},
     "output_type": "execute_result"
    }
   ],
   "source": [
    "ser1[3:4]"
   ]
  },
  {
   "cell_type": "code",
   "execution_count": 36,
   "id": "8c4bf62f",
   "metadata": {},
   "outputs": [
    {
     "data": {
      "text/plain": [
       "4"
      ]
     },
     "execution_count": 36,
     "metadata": {},
     "output_type": "execute_result"
    }
   ],
   "source": [
    "ser1.Japan"
   ]
  },
  {
   "cell_type": "code",
   "execution_count": 37,
   "id": "8f2bedff",
   "metadata": {},
   "outputs": [
    {
     "data": {
      "text/plain": [
       "USA        False\n",
       "Germany    False\n",
       "USSR       False\n",
       "Japan      False\n",
       "dtype: bool"
      ]
     },
     "execution_count": 37,
     "metadata": {},
     "output_type": "execute_result"
    }
   ],
   "source": [
    "ser1.isnull()"
   ]
  },
  {
   "cell_type": "code",
   "execution_count": 40,
   "id": "e9f34d42",
   "metadata": {},
   "outputs": [
    {
     "data": {
      "text/plain": [
       "Germany    False\n",
       "Italy       True\n",
       "Japan      False\n",
       "Spain       True\n",
       "USA        False\n",
       "USSR        True\n",
       "dtype: bool"
      ]
     },
     "execution_count": 40,
     "metadata": {},
     "output_type": "execute_result"
    }
   ],
   "source": [
    "ad.isnull()"
   ]
  },
  {
   "cell_type": "code",
   "execution_count": 41,
   "id": "0630d40f",
   "metadata": {},
   "outputs": [
    {
     "data": {
      "text/plain": [
       "USA        1\n",
       "Germany    2\n",
       "Italy      5\n",
       "Japan      4\n",
       "Spain      6\n",
       "dtype: int64"
      ]
     },
     "execution_count": 41,
     "metadata": {},
     "output_type": "execute_result"
    }
   ],
   "source": [
    "ser2"
   ]
  },
  {
   "cell_type": "code",
   "execution_count": 43,
   "id": "b1d222cc",
   "metadata": {},
   "outputs": [
    {
     "data": {
      "text/plain": [
       "Italy    5\n",
       "Japan    4\n",
       "Spain    6\n",
       "dtype: int64"
      ]
     },
     "execution_count": 43,
     "metadata": {},
     "output_type": "execute_result"
    }
   ],
   "source": [
    "ser2[2:]"
   ]
  },
  {
   "cell_type": "code",
   "execution_count": 44,
   "id": "954143de",
   "metadata": {},
   "outputs": [
    {
     "data": {
      "text/plain": [
       "Spain      6\n",
       "Japan      4\n",
       "Italy      5\n",
       "Germany    2\n",
       "USA        1\n",
       "dtype: int64"
      ]
     },
     "execution_count": 44,
     "metadata": {},
     "output_type": "execute_result"
    }
   ],
   "source": [
    "ser2[::-1]"
   ]
  },
  {
   "cell_type": "code",
   "execution_count": null,
   "id": "40f84327",
   "metadata": {},
   "outputs": [],
   "source": []
  }
 ],
 "metadata": {
  "kernelspec": {
   "display_name": "Python 3 (ipykernel)",
   "language": "python",
   "name": "python3"
  },
  "language_info": {
   "codemirror_mode": {
    "name": "ipython",
    "version": 3
   },
   "file_extension": ".py",
   "mimetype": "text/x-python",
   "name": "python",
   "nbconvert_exporter": "python",
   "pygments_lexer": "ipython3",
   "version": "3.9.12"
  }
 },
 "nbformat": 4,
 "nbformat_minor": 5
}
