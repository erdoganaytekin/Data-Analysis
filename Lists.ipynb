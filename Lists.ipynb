{
 "cells": [
  {
   "cell_type": "code",
   "execution_count": 3,
   "id": "c60a1b6d",
   "metadata": {},
   "outputs": [
    {
     "name": "stdout",
     "output_type": "stream",
     "text": [
      "Enter a start number: 0\n",
      "Enter a end number: 10\n",
      "['red', 'yellow', 'blue', 'green', 'purple', 'pink', 'brown', 'black', 'white', 'orange']\n"
     ]
    }
   ],
   "source": [
    "Rainbow =  [\"red\", \"yellow\", \"blue\", \"green\", \"purple\", \"pink\", \"brown\", \"black\", \"white\", \"orange\"]\n",
    "start = int(input(\"Enter a start number: \"))\n",
    "end = int(input(\"Enter a end number: \"))\n",
    "print(Rainbow[start:end])"
   ]
  },
  {
   "cell_type": "code",
   "execution_count": 15,
   "id": "ed2f13aa",
   "metadata": {},
   "outputs": [
    {
     "ename": "SyntaxError",
     "evalue": "unexpected character after line continuation character (3931725489.py, line 4)",
     "output_type": "error",
     "traceback": [
      "\u001b[1;36m  Input \u001b[1;32mIn [15]\u001b[1;36m\u001b[0m\n\u001b[1;33m    output = name + \" \",\\b + surname\u001b[0m\n\u001b[1;37m                         ^\u001b[0m\n\u001b[1;31mSyntaxError\u001b[0m\u001b[1;31m:\u001b[0m unexpected character after line continuation character\n"
     ]
    }
   ],
   "source": [
    "name = input(\"Enter a name: \")\n",
    "surname = input(\"Enter a surname: \")\n",
    "\n",
    "output = name + \" \",\\b + surname\n",
    "output = \"Your name and surname is\", output, \"and your name and surname lenght is\", int(len(output)-1)\n",
    "output"
   ]
  },
  {
   "cell_type": "code",
   "execution_count": null,
   "id": "54eeee32",
   "metadata": {},
   "outputs": [],
   "source": []
  }
 ],
 "metadata": {
  "kernelspec": {
   "display_name": "Python 3 (ipykernel)",
   "language": "python",
   "name": "python3"
  },
  "language_info": {
   "codemirror_mode": {
    "name": "ipython",
    "version": 3
   },
   "file_extension": ".py",
   "mimetype": "text/x-python",
   "name": "python",
   "nbconvert_exporter": "python",
   "pygments_lexer": "ipython3",
   "version": "3.9.12"
  }
 },
 "nbformat": 4,
 "nbformat_minor": 5
}
