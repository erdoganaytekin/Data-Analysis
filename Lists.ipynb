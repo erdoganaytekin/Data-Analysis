{. 
 "cells": [
  {
   "cell_type": "code",
   "execution_count": 3,
   "id": "c60a1b6d",
   "metadata": {},
   "outputs": [
    {
     "name": "stdout",
     "output_type": "stream",
     "text": [
      "Enter a start number: 0\n",
      "Enter a end number: 10\n",
      "['red', 'yellow', 'blue', 'green', 'purple', 'pink', 'brown', 'black', 'white', 'orange']\n"
     ]
    }
   ],
   "source": [
    "Rainbow =  [\"red\", \"yellow\", \"blue\", \"green\", \"purple\", \"pink\", \"brown\", \"black\", \"white\", \"orange\"]\n",
    "start = int(input(\"Enter a start number: \"))\n",
    "end = int(input(\"Enter a end number: \"))\n",
    "print(Rainbow[start:end])"
   ]
  },
  {
   "cell_type": "code",
   "execution_count": 19,
   "id": "ed2f13aa",
   "metadata": {},
   "outputs": [
    {
     "name": "stdout",
     "output_type": "stream",
     "text": [
      "Enter a name: Erdogan\n",
      "Enter a surname: Aytekin\n"
     ]
    },
    {
     "data": {
      "text/plain": [
       "('Your name and surname is',\n",
       " 'Erdogan Aytekin',\n",
       " 'and your name and surname lenght is',\n",
       " 14)"
      ]
     },
     "execution_count": 19,
     "metadata": {},
     "output_type": "execute_result"
    }
   ],
   "source": [
    "name = input(\"Enter a name: \")\n",
    "surname = input(\"Enter a surname: \")\n",
    "\n",
    "output = name + \" \" + surname\n",
    "output = \"Your name and surname is\", output, \"and your name and surname lenght is\", int(len(output)-1)\n",
    "output"
   ]
  },
  {
   "cell_type": "code",
   "execution_count": null,
   "id": "54eeee32",
   "metadata": {},
   "outputs": [],
   "source": []
  }
 ],
 "metadata": {
  "kernelspec": {
   "display_name": "Python 3 (ipykernel)",
   "language": "python",
   "name": "python3"
  },
  "language_info": {
   "codemirror_mode": {
    "name": "ipython",
    "version": 3
   },
   "file_extension": ".py",
   "mimetype": "text/x-python",
   "name": "python",
   "nbconvert_exporter": "python",
   "pygments_lexer": "ipython3",
   "version": "3.9.12"
  }
 },
 "nbformat": 4,
 "nbformat_minor": 5
}
