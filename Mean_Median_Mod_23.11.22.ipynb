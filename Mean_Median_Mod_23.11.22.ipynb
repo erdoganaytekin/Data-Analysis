{. 
 "cells": [
  {
   "cell_type": "markdown",
   "id": "c65630c0",
   "metadata": {},
   "source": [
    "# Mean_Median_Mod"
   ]
  },
  {
   "cell_type": "code",
   "execution_count": 1,
   "id": "16c51fe3",
   "metadata": {},
   "outputs": [],
   "source": [
    "import numpy as np\n",
    "import seaborn as sns\n",
    "from scipy import stats\n",
    "import pandas as pd"
   ]
  },
  {
   "cell_type": "code",
   "execution_count": 2,
   "id": "31047102",
   "metadata": {},
   "outputs": [],
   "source": [
    "x = [5,7,10,15,19,21,21,22,22,23,23,23,23,23,24,24,24,24,25]"
   ]
  },
  {
   "cell_type": "code",
   "execution_count": 3,
   "id": "2605d6a3",
   "metadata": {},
   "outputs": [
    {
     "data": {
      "text/plain": [
       "19"
      ]
     },
     "execution_count": 3,
     "metadata": {},
     "output_type": "execute_result"
    }
   ],
   "source": [
    "len(x)"
   ]
  },
  {
   "cell_type": "code",
   "execution_count": 4,
   "id": "1ce27ee2",
   "metadata": {},
   "outputs": [
    {
     "data": {
      "text/plain": [
       "19.894736842105264"
      ]
     },
     "execution_count": 4,
     "metadata": {},
     "output_type": "execute_result"
    }
   ],
   "source": [
    "np.mean(x)                #Mean"
   ]
  },
  {
   "cell_type": "code",
   "execution_count": 5,
   "id": "5f7a0067",
   "metadata": {},
   "outputs": [
    {
     "data": {
      "text/plain": [
       "23.0"
      ]
     },
     "execution_count": 5,
     "metadata": {},
     "output_type": "execute_result"
    }
   ],
   "source": [
    "np.median(x)              #Median"
   ]
  },
  {
   "cell_type": "code",
   "execution_count": 6,
   "id": "a04a09ba",
   "metadata": {},
   "outputs": [
    {
     "name": "stdout",
     "output_type": "stream",
     "text": [
      "1.21.5\n",
      "0.11.2\n",
      "1.4.2\n"
     ]
    }
   ],
   "source": [
    "print(np.__version__)\n",
    "print(sns.__version__)\n",
    "print(pd.__version__)"
   ]
  },
  {
   "cell_type": "code",
   "execution_count": 7,
   "id": "c40b640d",
   "metadata": {},
   "outputs": [
    {
     "data": {
      "text/plain": [
       "23"
      ]
     },
     "execution_count": 7,
     "metadata": {},
     "output_type": "execute_result"
    }
   ],
   "source": [
    "stats.mode(x)[0][0]       #Mod"
   ]
  },
  {
   "cell_type": "code",
   "execution_count": 8,
   "id": "57778abb",
   "metadata": {},
   "outputs": [
    {
     "data": {
      "text/plain": [
       "5"
      ]
     },
     "execution_count": 8,
     "metadata": {},
     "output_type": "execute_result"
    }
   ],
   "source": [
    "np.min(x)                 #Min"
   ]
  },
  {
   "cell_type": "code",
   "execution_count": 9,
   "id": "7d2f8f80",
   "metadata": {},
   "outputs": [
    {
     "data": {
      "text/plain": [
       "25"
      ]
     },
     "execution_count": 9,
     "metadata": {},
     "output_type": "execute_result"
    }
   ],
   "source": [
    "np.max(x)                 #Max"
   ]
  },
  {
   "cell_type": "code",
   "execution_count": 10,
   "id": "f65ab8c4",
   "metadata": {},
   "outputs": [
    {
     "data": {
      "text/plain": [
       "20.0"
      ]
     },
     "execution_count": 10,
     "metadata": {},
     "output_type": "execute_result"
    }
   ],
   "source": [
    "Q1 = np.percentile(x,25)\n",
    "Q1                        #Q1"
   ]
  },
  {
   "cell_type": "code",
   "execution_count": 11,
   "id": "3b41e093",
   "metadata": {},
   "outputs": [
    {
     "data": {
      "text/plain": [
       "23.0"
      ]
     },
     "execution_count": 11,
     "metadata": {},
     "output_type": "execute_result"
    }
   ],
   "source": [
    "Q2 = np.percentile(x,50)\n",
    "Q2                        #Q2"
   ]
  },
  {
   "cell_type": "code",
   "execution_count": 12,
   "id": "00444dbd",
   "metadata": {},
   "outputs": [
    {
     "data": {
      "text/plain": [
       "23.5"
      ]
     },
     "execution_count": 12,
     "metadata": {},
     "output_type": "execute_result"
    }
   ],
   "source": [
    "Q3 = np.percentile(x,75)\n",
    "Q3                        #Q3"
   ]
  },
  {
   "cell_type": "code",
   "execution_count": 13,
   "id": "ae2e74f6",
   "metadata": {},
   "outputs": [
    {
     "data": {
      "text/plain": [
       "3.5"
      ]
     },
     "execution_count": 13,
     "metadata": {},
     "output_type": "execute_result"
    }
   ],
   "source": [
    "IQR = Q3 - Q1\n",
    "IQR                #IQR"
   ]
  },
  {
   "cell_type": "code",
   "execution_count": 14,
   "id": "a6954e18",
   "metadata": {},
   "outputs": [
    {
     "data": {
      "text/plain": [
       "3.5"
      ]
     },
     "execution_count": 14,
     "metadata": {},
     "output_type": "execute_result"
    }
   ],
   "source": [
    "stats.iqr(x)       #IQR"
   ]
  },
  {
   "cell_type": "code",
   "execution_count": 15,
   "id": "65e3bac0",
   "metadata": {},
   "outputs": [
    {
     "data": {
      "text/plain": [
       "array([20. , 23.5])"
      ]
     },
     "execution_count": 15,
     "metadata": {},
     "output_type": "execute_result"
    }
   ],
   "source": [
    "np.percentile(x,[25,75])"
   ]
  },
  {
   "cell_type": "code",
   "execution_count": 16,
   "id": "c9689fc1",
   "metadata": {},
   "outputs": [
    {
     "data": {
      "text/plain": [
       "34.93628808864266"
      ]
     },
     "execution_count": 16,
     "metadata": {},
     "output_type": "execute_result"
    }
   ],
   "source": [
    "np.var(x)          # Variance"
   ]
  },
  {
   "cell_type": "code",
   "execution_count": 17,
   "id": "1b00fed5",
   "metadata": {},
   "outputs": [
    {
     "data": {
      "text/plain": [
       "5.910692691101667"
      ]
     },
     "execution_count": 17,
     "metadata": {},
     "output_type": "execute_result"
    }
   ],
   "source": [
    "np.std(x)          # Standart Deviation"
   ]
  },
  {
   "cell_type": "code",
   "execution_count": 18,
   "id": "302c39c2",
   "metadata": {},
   "outputs": [
    {
     "data": {
      "text/plain": [
       "5.910692691101667"
      ]
     },
     "execution_count": 18,
     "metadata": {},
     "output_type": "execute_result"
    }
   ],
   "source": [
    "np.sqrt(np.var(x))"
   ]
  },
  {
   "cell_type": "code",
   "execution_count": 19,
   "id": "39f06d55",
   "metadata": {},
   "outputs": [
    {
     "data": {
      "text/plain": [
       "-1.5176315809887007"
      ]
     },
     "execution_count": 19,
     "metadata": {},
     "output_type": "execute_result"
    }
   ],
   "source": [
    "stats.skew(x)      # x is negatively skewed."
   ]
  },
  {
   "cell_type": "code",
   "execution_count": 20,
   "id": "48ce7192",
   "metadata": {},
   "outputs": [
    {
     "data": {
      "text/plain": [
       "0.8528442245963328"
      ]
     },
     "execution_count": 20,
     "metadata": {},
     "output_type": "execute_result"
    }
   ],
   "source": [
    "stats.kurtosis(x)"
   ]
  },
  {
   "cell_type": "code",
   "execution_count": 21,
   "id": "b16a8909",
   "metadata": {},
   "outputs": [
    {
     "data": {
      "text/plain": [
       "DescribeResult(nobs=19, minmax=(5, 25), mean=19.894736842105264, variance=36.877192982456144, skewness=-1.5176315809887007, kurtosis=0.8528442245963328)"
      ]
     },
     "execution_count": 21,
     "metadata": {},
     "output_type": "execute_result"
    }
   ],
   "source": [
    "stats.describe(x)"
   ]
  }
 ],
 "metadata": {
  "kernelspec": {
   "display_name": "Python 3 (ipykernel)",
   "language": "python",
   "name": "python3"
  },
  "language_info": {
   "codemirror_mode": {
    "name": "ipython",
    "version": 3
   },
   "file_extension": ".py",
   "mimetype": "text/x-python",
   "name": "python",
   "nbconvert_exporter": "python",
   "pygments_lexer": "ipython3",
   "version": "3.9.12"
  }
 },
 "nbformat": 4,
 "nbformat_minor": 5
}
